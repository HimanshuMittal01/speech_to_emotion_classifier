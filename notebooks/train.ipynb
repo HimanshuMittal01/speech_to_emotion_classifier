{
 "cells": [
  {
   "cell_type": "code",
   "execution_count": 1,
   "metadata": {},
   "outputs": [
    {
     "name": "stderr",
     "output_type": "stream",
     "text": [
      "/home/ashok/kc/kagglenv/lib/python3.8/site-packages/torch/cuda/__init__.py:83: UserWarning: CUDA initialization: Unexpected error from cudaGetDeviceCount(). Did you run some cuda functions before calling NumCudaDevices() that might have already set an error? Error 804: forward compatibility was attempted on non supported HW (Triggered internally at  ../c10/cuda/CUDAFunctions.cpp:109.)\n",
      "  return torch._C._cuda_getDeviceCount() > 0\n"
     ]
    }
   ],
   "source": [
    "import os, random\n",
    "import torch\n",
    "import joblib\n",
    "import numpy as np\n",
    "import pandas as pd\n",
    "import seaborn as sns\n",
    "import xgboost as xgb\n",
    "import hyperopt as ht\n",
    "import librosa, librosa.display\n",
    "import matplotlib.pyplot as plt\n",
    "from tqdm import tqdm\n",
    "from sklearn.preprocessing import StandardScaler\n",
    "from sklearn.metrics import accuracy_score, f1_score, confusion_matrix"
   ]
  },
  {
   "cell_type": "code",
   "execution_count": 2,
   "metadata": {},
   "outputs": [],
   "source": [
    "# os.environ['CUDA_LAUNCH_BLOCKING'] = '1'\n",
    "\n",
    "def _initialize_seed(seed):\n",
    "    np.random.seed(seed)\n",
    "    random.seed(seed)\n",
    "\n",
    "random_state = 42\n",
    "_initialize_seed(random_state)"
   ]
  },
  {
   "cell_type": "code",
   "execution_count": 3,
   "metadata": {},
   "outputs": [],
   "source": [
    "data_dir = \"../input/ravdess/\"\n",
    "df_train = pd.read_csv(os.path.join(data_dir, \"train.csv\"))\n",
    "df_valid = pd.read_csv(os.path.join(data_dir, \"valid.csv\"))"
   ]
  },
  {
   "cell_type": "code",
   "execution_count": 4,
   "metadata": {},
   "outputs": [],
   "source": [
    "def load_signals(df, sr=44100, **kwargs):\n",
    "    singals = []\n",
    "    for row in tqdm(df.itertuples(), desc=\"Processing...\", total=len(df)):\n",
    "        audio_signal,_ = librosa.core.load(os.path.join(data_dir, row.filepath), sr=sr, offset=kwargs.get(\"offset\", 0.25), duration=kwargs.get(\"duration\", 2.5))\n",
    "        singals.append(audio_signal)\n",
    "    return np.array(singals, dtype=np.float32)"
   ]
  },
  {
   "cell_type": "code",
   "execution_count": 5,
   "metadata": {},
   "outputs": [],
   "source": [
    "def get_mfcc_features(signal, postfeatures=\"standardize\", return_dims=1):\n",
    "    assert(postfeatures in [\"standardize\",\"normalize\"])\n",
    "    assert(return_dims in [1,2])\n",
    "\n",
    "    # Get MFCC\n",
    "    x = librosa.feature.mfcc(y=signal)\n",
    "\n",
    "    # Postprocess\n",
    "    if postfeatures==\"standardize\":\n",
    "        x = StandardScaler().fit_transform(x.T).T\n",
    "    elif postfeatures==\"normalize\":\n",
    "        x = 2.*(x - x.min(axis=1).reshape(-1,1))/(x.max(axis=1)-x.min(axis=1)).reshape(-1,1) - 1\n",
    "    \n",
    "    # Return\n",
    "    return x.ravel() if return_dims==1 else x"
   ]
  },
  {
   "cell_type": "markdown",
   "metadata": {},
   "source": [
    "## Feature extraction"
   ]
  },
  {
   "cell_type": "code",
   "execution_count": 6,
   "metadata": {},
   "outputs": [
    {
     "name": "stderr",
     "output_type": "stream",
     "text": [
      "Processing...: 100%|██████████| 990/990 [01:04<00:00, 15.40it/s]\n",
      "Processing...: 100%|██████████| 330/330 [00:18<00:00, 18.28it/s]\n"
     ]
    }
   ],
   "source": [
    "X_train = load_signals(df_train)\n",
    "X_valid = load_signals(df_valid)"
   ]
  },
  {
   "cell_type": "code",
   "execution_count": 7,
   "metadata": {},
   "outputs": [],
   "source": [
    "X_train_mfcc1D = np.array([get_mfcc_features(x, postfeatures=\"standardize\", return_dims=1) for x in X_train])\n",
    "X_valid_mfcc1D = np.array([get_mfcc_features(x, postfeatures=\"standardize\", return_dims=1) for x in X_valid])"
   ]
  },
  {
   "cell_type": "code",
   "execution_count": 8,
   "metadata": {},
   "outputs": [],
   "source": [
    "y_train = df_train[\"emotion\"].values\n",
    "y_valid = df_valid[\"emotion\"].values"
   ]
  },
  {
   "cell_type": "code",
   "execution_count": 9,
   "metadata": {},
   "outputs": [
    {
     "name": "stdout",
     "output_type": "stream",
     "text": [
      "(990, 4320) (990,)\n",
      "(330, 4320) (330,)\n"
     ]
    }
   ],
   "source": [
    "print(X_train_mfcc1D.shape, y_train.shape)\n",
    "print(X_valid_mfcc1D.shape, y_valid.shape)"
   ]
  },
  {
   "cell_type": "markdown",
   "metadata": {},
   "source": [
    "## Model: XGBoost"
   ]
  },
  {
   "cell_type": "markdown",
   "metadata": {},
   "source": [
    "### Optimizing hyperparams"
   ]
  },
  {
   "cell_type": "code",
   "execution_count": 10,
   "metadata": {},
   "outputs": [
    {
     "name": "stdout",
     "output_type": "stream",
     "text": [
      "100%|██████████| 50/50 [01:28<00:00,  1.77s/trial, best loss: -0.3484848484848485]\n",
      "{'colsample_bytree': 0.697604236265011, 'gamma': 2.1625624460965795, 'max_depth': 7.0, 'min_child_weight': 9.0, 'reg_lambda': 7.181656340878593}\n"
     ]
    }
   ],
   "source": [
    "# Define space\n",
    "space = {'max_depth': ht.hp.quniform(\"max_depth\", 3, 18, 1),\n",
    "    'gamma': ht.hp.uniform ('gamma', 1, 9),\n",
    "    'reg_lambda' : ht.hp.uniform('reg_lambda', 0, 10),\n",
    "    'colsample_bytree' : ht.hp.uniform('colsample_bytree', 0.5, 1),\n",
    "    'min_child_weight' : ht.hp.quniform('min_child_weight', 0, 10, 1),\n",
    "    'n_estimators': 180,\n",
    "    'seed': 42\n",
    "}\n",
    "\n",
    "# Objective function\n",
    "def objective(space):\n",
    "    clf=xgb.XGBClassifier(\n",
    "        n_estimators=space['n_estimators'],\n",
    "        max_depth=int(space['max_depth']),\n",
    "        gamma=space['gamma'],\n",
    "        min_child_weight=int(space['min_child_weight']),\n",
    "        colsample_bytree=int(space['colsample_bytree']),\n",
    "        eval_metric=\"auc\",\n",
    "        early_stopping_rounds=10\n",
    "    )\n",
    "\n",
    "    clf.fit(X_train_mfcc1D, y_train, eval_set=[(X_valid_mfcc1D, y_valid)], verbose=False)\n",
    "    accuracy = accuracy_score(y_valid, clf.predict(X_valid_mfcc1D))\n",
    "    \n",
    "    return {'loss': -accuracy, 'status': ht.STATUS_OK}\n",
    "\n",
    "# Run trials\n",
    "trials = ht.Trials()\n",
    "best_hyperparams = ht.fmin(\n",
    "    fn = objective,\n",
    "    space = space,\n",
    "    algo = ht.tpe.suggest,\n",
    "    max_evals = 50,\n",
    "    trials = trials\n",
    ")\n",
    "\n",
    "# Obtain best hyperparams\n",
    "print(best_hyperparams)"
   ]
  },
  {
   "cell_type": "markdown",
   "metadata": {},
   "source": [
    "### Model building and training"
   ]
  },
  {
   "cell_type": "code",
   "execution_count": 11,
   "metadata": {},
   "outputs": [],
   "source": [
    "# [180,3,2.81,3.87,3.5,0.95]\n",
    "# Find and fill best hyperparams for this model\n",
    "xgbc = xgb.XGBClassifier(\n",
    "    n_estimators=180,\n",
    "    max_depth=6,\n",
    "    gamma=2.5,\n",
    "    reg_lambda=6,\n",
    "    min_child_weight=10,\n",
    "    colsample_bytree=0.75,\n",
    "    eval_metric=\"auc\",\n",
    "    tree_method=\"gpu_hist\"\n",
    ")\n",
    "\n",
    "xgbc.fit(X_train_mfcc1D, y_train)\n",
    "y_hat_train = xgbc.predict(X_train_mfcc1D)\n",
    "y_hat_valid = xgbc.predict(X_valid_mfcc1D)"
   ]
  },
  {
   "cell_type": "markdown",
   "metadata": {},
   "source": [
    "### Evaluation"
   ]
  },
  {
   "cell_type": "code",
   "execution_count": 12,
   "metadata": {},
   "outputs": [
    {
     "name": "stdout",
     "output_type": "stream",
     "text": [
      "Accuracy (train): 0.9959595959595959\n",
      "Accuracy (valid): 0.37272727272727274\n",
      "F1 (train): 0.9962046181687604\n",
      "F1 (valid): 0.36303169094477716\n"
     ]
    }
   ],
   "source": [
    "print(\"Accuracy (train):\",accuracy_score(y_train, y_hat_train))\n",
    "print(\"Accuracy (valid):\",accuracy_score(y_valid, y_hat_valid))\n",
    "print(\"F1 (train):\",f1_score(y_train, y_hat_train, average=\"macro\"))\n",
    "print(\"F1 (valid):\",f1_score(y_valid, y_hat_valid, average=\"macro\"))"
   ]
  },
  {
   "cell_type": "code",
   "execution_count": 13,
   "metadata": {},
   "outputs": [
    {
     "data": {
      "image/png": "[encoded data removed]",
      "text/plain": [
       "<Figure size 432x288 with 2 Axes>"
      ]
     },
     "metadata": {},
     "output_type": "display_data"
    }
   ],
   "source": [
    "plt.figure(facecolor=\"white\")\n",
    "sns.heatmap(confusion_matrix(y_valid, y_hat_valid), annot=True)\n",
    "plt.show()"
   ]
  },
  {
   "cell_type": "markdown",
   "metadata": {},
   "source": [
    "### Predict single datapoint"
   ]
  },
  {
   "cell_type": "code",
   "execution_count": 14,
   "metadata": {},
   "outputs": [
    {
     "data": {
      "text/plain": [
       "9"
      ]
     },
     "execution_count": 14,
     "metadata": {},
     "output_type": "execute_result"
    }
   ],
   "source": [
    "xgbc.predict([X_valid_mfcc1D[0]])[0]"
   ]
  },
  {
   "cell_type": "markdown",
   "metadata": {},
   "source": [
    "### Save"
   ]
  },
  {
   "cell_type": "code",
   "execution_count": 15,
   "metadata": {},
   "outputs": [
    {
     "data": {
      "text/plain": [
       "['../models/xgbc_v1_stdmfcc1D_2.5ms.joblib']"
      ]
     },
     "execution_count": 15,
     "metadata": {},
     "output_type": "execute_result"
    }
   ],
   "source": [
    "joblib.dump(xgbc, \"../models/xgbc_v1_stdmfcc1D_2.5ms.joblib\")"
   ]
  },
  {
   "cell_type": "markdown",
   "metadata": {},
   "source": [
    "## Model: LSTM"
   ]
  },
  {
   "cell_type": "markdown",
   "metadata": {},
   "source": [
    "### Define dataloader"
   ]
  },
  {
   "cell_type": "code",
   "execution_count": 10,
   "metadata": {},
   "outputs": [],
   "source": [
    "# https://www.kaggle.com/code/huseinzol05/sound-augmentation-librosa/notebook\n",
    "def pitch_shift(signal, sr=44100):\n",
    "    bins_per_octave = 12\n",
    "    pitch_pm = 2\n",
    "    pitch_change =  pitch_pm * 2*(np.random.uniform())\n",
    "    return librosa.effects.pitch_shift(signal.astype('float32'), sr=sr, n_steps=pitch_change, bins_per_octave=bins_per_octave)\n",
    "\n",
    "def value_augmentation(signal, low=1.5, high=3):\n",
    "    dyn_change = np.random.uniform(low=low,high=high)\n",
    "    return signal * dyn_change\n",
    "\n",
    "def hpss(signal):\n",
    "    return librosa.effects.hpss(signal.astype('float64'))[1]\n",
    "\n",
    "def distribution_noise(signal):\n",
    "    noise_amp = 0.005*np.random.uniform()*np.amax(signal)\n",
    "    return signal.astype('float64') + noise_amp * np.random.normal(size=signal.shape[0])\n",
    "\n",
    "\n",
    "class RavdessDataset(torch.utils.data.Dataset):\n",
    "    def __init__(self, X, y, paug=0.5) -> None:\n",
    "        self.y = y\n",
    "        self.X = X\n",
    "        self.paug = paug\n",
    "        self.transforms = {\n",
    "            \"pitch_shift\":pitch_shift,\n",
    "            \"value_augmentation\":value_augmentation,\n",
    "            \"hpss\":hpss,\n",
    "            \"distribution_noise\":distribution_noise\n",
    "        }   \n",
    "\n",
    "    def __len__(self):\n",
    "        return len(self.y)\n",
    "\n",
    "    def __getitem__(self, i):\n",
    "        x, y = self.X[i], self.y[i]\n",
    "        if np.random.random()<self.paug:\n",
    "            transform_name = np.random.choice(list(self.transforms.keys()))\n",
    "            x = self.transforms[transform_name](x)\n",
    "        x = get_mfcc_features(x, postfeatures=\"standardize\", return_dims=2)\n",
    "        x = x.astype(np.float32).T\n",
    "        return x, y"
   ]
  },
  {
   "cell_type": "code",
   "execution_count": 21,
   "metadata": {},
   "outputs": [],
   "source": [
    "# Initialize dataset\n",
    "train_dataset = RavdessDataset(X_train, y_train, paug=0.4)\n",
    "valid_dataset = RavdessDataset(X_valid, y_valid, paug=0.0)\n",
    "\n",
    "# Initialize dataloader\n",
    "train_dataloader = torch.utils.data.DataLoader(train_dataset, batch_size=256)\n",
    "valid_dataloader = torch.utils.data.DataLoader(valid_dataset, batch_size=256)"
   ]
  },
  {
   "cell_type": "markdown",
   "metadata": {},
   "source": [
    "### Model building"
   ]
  },
  {
   "cell_type": "code",
   "execution_count": 22,
   "metadata": {},
   "outputs": [],
   "source": [
    "device = torch.device(\"cuda\" if torch.cuda.is_available() else \"cpu\")\n",
    "n_classes = 16\n",
    "\n",
    "class GetLSTMFeatures(torch.nn.Module):\n",
    "    def __init__(self, mode, batch_first=True) -> None:\n",
    "        super().__init__()\n",
    "        self.mode = mode\n",
    "        self.batch_first = batch_first\n",
    "    def forward(self, x):\n",
    "        output, (hn, cn) = x\n",
    "        if self.mode==\"full\":\n",
    "            return output\n",
    "        return output[:,-1,:] if self.batch_first else output[-1,:,:]\n",
    "\n",
    "lstm_model = torch.nn.Sequential(\n",
    "    torch.nn.LSTM(input_size=20, hidden_size=64, num_layers=3, dropout=0.2, batch_first=True),\n",
    "    # GetLSTMFeatures(mode=\"full\"),\n",
    "    # torch.nn.LSTM(input_size=16, hidden_size=8, num_layers=2),\n",
    "    GetLSTMFeatures(mode=\"last\"),\n",
    "    torch.nn.Linear(in_features=64, out_features=32),\n",
    "    torch.nn.ReLU(),\n",
    "    torch.nn.Linear(in_features=32, out_features=n_classes)\n",
    ").to(device)"
   ]
  },
  {
   "cell_type": "markdown",
   "metadata": {},
   "source": [
    "### Training"
   ]
  },
  {
   "cell_type": "code",
   "execution_count": 23,
   "metadata": {},
   "outputs": [
    {
     "name": "stdout",
     "output_type": "stream",
     "text": [
      "Epoch: 5, Training loss: 2.735774517059326, Training accuracy: 0.09967096002252251, Validation loss: 2.713118076324463, Validation accuracy: 0.08350929054054054\n",
      "Epoch: 10, Training loss: 2.4937174916267395, Training accuracy: 0.13789766328828829, Validation loss: 2.457340717315674, Validation accuracy: 0.1570945945945946\n",
      "Epoch: 15, Training loss: 2.249662756919861, Training accuracy: 0.20272029842342343, Validation loss: 2.2025636434555054, Validation accuracy: 0.1746727195945946\n",
      "Epoch: 20, Training loss: 2.077507972717285, Training accuracy: 0.24913780968468469, Validation loss: 2.0362237095832825, Validation accuracy: 0.21853885135135137\n",
      "Epoch: 25, Training loss: 1.9909188449382782, Training accuracy: 0.27054300394144143, Validation loss: 1.9760764241218567, Validation accuracy: 0.24165962837837837\n",
      "Epoch: 30, Training loss: 1.9442033171653748, Training accuracy: 0.30418602195945943, Validation loss: 1.9072966575622559, Validation accuracy: 0.2505278716216216\n",
      "Epoch: 35, Training loss: 1.8160374164581299, Training accuracy: 0.3147786458333333, Validation loss: 1.8840190768241882, Validation accuracy: 0.2951330236486487\n",
      "Epoch: 40, Training loss: 1.7732615768909454, Training accuracy: 0.35639252533783783, Validation loss: 1.8275296092033386, Validation accuracy: 0.3079075168918919\n",
      "Epoch: 45, Training loss: 1.6766657531261444, Training accuracy: 0.37231665259009006, Validation loss: 1.8608970642089844, Validation accuracy: 0.25744298986486486\n",
      "Epoch: 50, Training loss: 1.592370092868805, Training accuracy: 0.428271044481982, Validation loss: 1.7815297842025757, Validation accuracy: 0.34559755067567566\n",
      "Epoch: 55, Training loss: 1.5451762080192566, Training accuracy: 0.44884923986486486, Validation loss: 1.7872156500816345, Validation accuracy: 0.32801942567567566\n",
      "Epoch: 60, Training loss: 1.4637972116470337, Training accuracy: 0.45748873873873874, Validation loss: 1.7671947479248047, Validation accuracy: 0.3388407939189189\n",
      "Epoch: 65, Training loss: 1.4805662035942078, Training accuracy: 0.48639850788288286, Validation loss: 1.7771119475364685, Validation accuracy: 0.38328758445945943\n",
      "Epoch: 70, Training loss: 1.4049833416938782, Training accuracy: 0.5004486908783784, Validation loss: 1.767841637134552, Validation accuracy: 0.3610641891891892\n",
      "Epoch: 75, Training loss: 1.2904400825500488, Training accuracy: 0.5544499577702703, Validation loss: 1.7649664878845215, Validation accuracy: 0.33599028716216217\n",
      "Epoch: 80, Training loss: 1.2161697447299957, Training accuracy: 0.5716497747747747, Validation loss: 1.7602347135543823, Validation accuracy: 0.35161528716216217\n",
      "Epoch: 85, Training loss: 1.273799329996109, Training accuracy: 0.5601597691441441, Validation loss: 1.8015725016593933, Validation accuracy: 0.36993243243243246\n",
      "Epoch: 90, Training loss: 1.183259516954422, Training accuracy: 0.5899757179054054, Validation loss: 1.8567967414855957, Validation accuracy: 0.36211993243243246\n",
      "Epoch: 95, Training loss: 1.075990080833435, Training accuracy: 0.6240762246621622, Validation loss: 1.728837490081787, Validation accuracy: 0.38930532094594594\n",
      "Epoch: 100, Training loss: 1.049704223871231, Training accuracy: 0.6162637246621622, Validation loss: 1.7954691052436829, Validation accuracy: 0.36903505067567566\n",
      "Epoch: 105, Training loss: 0.9794944226741791, Training accuracy: 0.6638073620495495, Validation loss: 1.7997800707817078, Validation accuracy: 0.3604835304054054\n",
      "Epoch: 110, Training loss: 0.9838617593050003, Training accuracy: 0.6550182995495495, Validation loss: 1.794779658317566, Validation accuracy: 0.3942673141891892\n",
      "Epoch: 115, Training loss: 0.9921780228614807, Training accuracy: 0.6723676801801801, Validation loss: 1.8076000213623047, Validation accuracy: 0.3779032939189189\n",
      "Epoch: 120, Training loss: 0.928583413362503, Training accuracy: 0.6855908643018018, Validation loss: 1.8433759212493896, Validation accuracy: 0.3857157939189189\n",
      "Epoch: 125, Training loss: 0.9128217548131943, Training accuracy: 0.7039959881756757, Validation loss: 1.8285387754440308, Validation accuracy: 0.38661317567567566\n",
      "Epoch: 130, Training loss: 0.8442634791135788, Training accuracy: 0.7341902449324325, Validation loss: 1.9183627367019653, Validation accuracy: 0.38466005067567566\n",
      "Epoch: 135, Training loss: 0.9577946811914444, Training accuracy: 0.6794411599099099, Validation loss: 1.8714648485183716, Validation accuracy: 0.40102407094594594\n",
      "Epoch: 140, Training loss: 0.8277930915355682, Training accuracy: 0.7199113175675675, Validation loss: 1.8130984902381897, Validation accuracy: 0.42609797297297297\n",
      "Epoch: 145, Training loss: 0.7993105947971344, Training accuracy: 0.7630296311936937, Validation loss: 1.8151285648345947, Validation accuracy: 0.41348184121621623\n"
     ]
    },
    {
     "ename": "KeyboardInterrupt",
     "evalue": "",
     "output_type": "error",
     "traceback": [
      "\u001b[0;31m---------------------------------------------------------------------------\u001b[0m",
      "\u001b[0;31mKeyboardInterrupt\u001b[0m                         Traceback (most recent call last)",
      "\u001b[0;32m/tmp/ipykernel_465774/980102777.py\u001b[0m in \u001b[0;36m<module>\u001b[0;34m\u001b[0m\n\u001b[1;32m     13\u001b[0m \u001b[0;34m\u001b[0m\u001b[0m\n\u001b[1;32m     14\u001b[0m     \u001b[0;31m# Training\u001b[0m\u001b[0;34m\u001b[0m\u001b[0;34m\u001b[0m\u001b[0;34m\u001b[0m\u001b[0m\n\u001b[0;32m---> 15\u001b[0;31m     \u001b[0;32mfor\u001b[0m \u001b[0minputs\u001b[0m\u001b[0;34m,\u001b[0m \u001b[0mtargets\u001b[0m \u001b[0;32min\u001b[0m \u001b[0mtrain_dataloader\u001b[0m\u001b[0;34m:\u001b[0m\u001b[0;34m\u001b[0m\u001b[0;34m\u001b[0m\u001b[0m\n\u001b[0m\u001b[1;32m     16\u001b[0m         \u001b[0moptimizer\u001b[0m\u001b[0;34m.\u001b[0m\u001b[0mzero_grad\u001b[0m\u001b[0;34m(\u001b[0m\u001b[0;34m)\u001b[0m\u001b[0;34m\u001b[0m\u001b[0;34m\u001b[0m\u001b[0m\n\u001b[1;32m     17\u001b[0m         \u001b[0moutputs\u001b[0m \u001b[0;34m=\u001b[0m \u001b[0mlstm_model\u001b[0m\u001b[0;34m(\u001b[0m\u001b[0minputs\u001b[0m\u001b[0;34m.\u001b[0m\u001b[0mto\u001b[0m\u001b[0;34m(\u001b[0m\u001b[0mdevice\u001b[0m\u001b[0;34m)\u001b[0m\u001b[0;34m)\u001b[0m\u001b[0;34m\u001b[0m\u001b[0;34m\u001b[0m\u001b[0m\n",
      "\u001b[0;32m~/kc/kagglenv/lib/python3.8/site-packages/torch/utils/data/dataloader.py\u001b[0m in \u001b[0;36m__next__\u001b[0;34m(self)\u001b[0m\n\u001b[1;32m    650\u001b[0m                 \u001b[0;31m# TODO(https://github.com/pytorch/pytorch/issues/76750)\u001b[0m\u001b[0;34m\u001b[0m\u001b[0;34m\u001b[0m\u001b[0;34m\u001b[0m\u001b[0m\n\u001b[1;32m    651\u001b[0m                 \u001b[0mself\u001b[0m\u001b[0;34m.\u001b[0m\u001b[0m_reset\u001b[0m\u001b[0;34m(\u001b[0m\u001b[0;34m)\u001b[0m  \u001b[0;31m# type: ignore[call-arg]\u001b[0m\u001b[0;34m\u001b[0m\u001b[0;34m\u001b[0m\u001b[0m\n\u001b[0;32m--> 652\u001b[0;31m             \u001b[0mdata\u001b[0m \u001b[0;34m=\u001b[0m \u001b[0mself\u001b[0m\u001b[0;34m.\u001b[0m\u001b[0m_next_data\u001b[0m\u001b[0;34m(\u001b[0m\u001b[0;34m)\u001b[0m\u001b[0;34m\u001b[0m\u001b[0;34m\u001b[0m\u001b[0m\n\u001b[0m\u001b[1;32m    653\u001b[0m             \u001b[0mself\u001b[0m\u001b[0;34m.\u001b[0m\u001b[0m_num_yielded\u001b[0m \u001b[0;34m+=\u001b[0m \u001b[0;36m1\u001b[0m\u001b[0;34m\u001b[0m\u001b[0;34m\u001b[0m\u001b[0m\n\u001b[1;32m    654\u001b[0m             \u001b[0;32mif\u001b[0m \u001b[0mself\u001b[0m\u001b[0;34m.\u001b[0m\u001b[0m_dataset_kind\u001b[0m \u001b[0;34m==\u001b[0m \u001b[0m_DatasetKind\u001b[0m\u001b[0;34m.\u001b[0m\u001b[0mIterable\u001b[0m \u001b[0;32mand\u001b[0m\u001b[0;31m \u001b[0m\u001b[0;31m\\\u001b[0m\u001b[0;34m\u001b[0m\u001b[0;34m\u001b[0m\u001b[0m\n",
      "\u001b[0;32m~/kc/kagglenv/lib/python3.8/site-packages/torch/utils/data/dataloader.py\u001b[0m in \u001b[0;36m_next_data\u001b[0;34m(self)\u001b[0m\n\u001b[1;32m    690\u001b[0m     \u001b[0;32mdef\u001b[0m \u001b[0m_next_data\u001b[0m\u001b[0;34m(\u001b[0m\u001b[0mself\u001b[0m\u001b[0;34m)\u001b[0m\u001b[0;34m:\u001b[0m\u001b[0;34m\u001b[0m\u001b[0;34m\u001b[0m\u001b[0m\n\u001b[1;32m    691\u001b[0m         \u001b[0mindex\u001b[0m \u001b[0;34m=\u001b[0m \u001b[0mself\u001b[0m\u001b[0;34m.\u001b[0m\u001b[0m_next_index\u001b[0m\u001b[0;34m(\u001b[0m\u001b[0;34m)\u001b[0m  \u001b[0;31m# may raise StopIteration\u001b[0m\u001b[0;34m\u001b[0m\u001b[0;34m\u001b[0m\u001b[0m\n\u001b[0;32m--> 692\u001b[0;31m         \u001b[0mdata\u001b[0m \u001b[0;34m=\u001b[0m \u001b[0mself\u001b[0m\u001b[0;34m.\u001b[0m\u001b[0m_dataset_fetcher\u001b[0m\u001b[0;34m.\u001b[0m\u001b[0mfetch\u001b[0m\u001b[0;34m(\u001b[0m\u001b[0mindex\u001b[0m\u001b[0;34m)\u001b[0m  \u001b[0;31m# may raise StopIteration\u001b[0m\u001b[0;34m\u001b[0m\u001b[0;34m\u001b[0m\u001b[0m\n\u001b[0m\u001b[1;32m    693\u001b[0m         \u001b[0;32mif\u001b[0m \u001b[0mself\u001b[0m\u001b[0;34m.\u001b[0m\u001b[0m_pin_memory\u001b[0m\u001b[0;34m:\u001b[0m\u001b[0;34m\u001b[0m\u001b[0;34m\u001b[0m\u001b[0m\n\u001b[1;32m    694\u001b[0m             \u001b[0mdata\u001b[0m \u001b[0;34m=\u001b[0m \u001b[0m_utils\u001b[0m\u001b[0;34m.\u001b[0m\u001b[0mpin_memory\u001b[0m\u001b[0;34m.\u001b[0m\u001b[0mpin_memory\u001b[0m\u001b[0;34m(\u001b[0m\u001b[0mdata\u001b[0m\u001b[0;34m,\u001b[0m \u001b[0mself\u001b[0m\u001b[0;34m.\u001b[0m\u001b[0m_pin_memory_device\u001b[0m\u001b[0;34m)\u001b[0m\u001b[0;34m\u001b[0m\u001b[0;34m\u001b[0m\u001b[0m\n",
      "\u001b[0;32m~/kc/kagglenv/lib/python3.8/site-packages/torch/utils/data/_utils/fetch.py\u001b[0m in \u001b[0;36mfetch\u001b[0;34m(self, possibly_batched_index)\u001b[0m\n\u001b[1;32m     47\u001b[0m     \u001b[0;32mdef\u001b[0m \u001b[0mfetch\u001b[0m\u001b[0;34m(\u001b[0m\u001b[0mself\u001b[0m\u001b[0;34m,\u001b[0m \u001b[0mpossibly_batched_index\u001b[0m\u001b[0;34m)\u001b[0m\u001b[0;34m:\u001b[0m\u001b[0;34m\u001b[0m\u001b[0;34m\u001b[0m\u001b[0m\n\u001b[1;32m     48\u001b[0m         \u001b[0;32mif\u001b[0m \u001b[0mself\u001b[0m\u001b[0;34m.\u001b[0m\u001b[0mauto_collation\u001b[0m\u001b[0;34m:\u001b[0m\u001b[0;34m\u001b[0m\u001b[0;34m\u001b[0m\u001b[0m\n\u001b[0;32m---> 49\u001b[0;31m             \u001b[0mdata\u001b[0m \u001b[0;34m=\u001b[0m \u001b[0;34m[\u001b[0m\u001b[0mself\u001b[0m\u001b[0;34m.\u001b[0m\u001b[0mdataset\u001b[0m\u001b[0;34m[\u001b[0m\u001b[0midx\u001b[0m\u001b[0;34m]\u001b[0m \u001b[0;32mfor\u001b[0m \u001b[0midx\u001b[0m \u001b[0;32min\u001b[0m \u001b[0mpossibly_batched_index\u001b[0m\u001b[0;34m]\u001b[0m\u001b[0;34m\u001b[0m\u001b[0;34m\u001b[0m\u001b[0m\n\u001b[0m\u001b[1;32m     50\u001b[0m         \u001b[0;32melse\u001b[0m\u001b[0;34m:\u001b[0m\u001b[0;34m\u001b[0m\u001b[0;34m\u001b[0m\u001b[0m\n\u001b[1;32m     51\u001b[0m             \u001b[0mdata\u001b[0m \u001b[0;34m=\u001b[0m \u001b[0mself\u001b[0m\u001b[0;34m.\u001b[0m\u001b[0mdataset\u001b[0m\u001b[0;34m[\u001b[0m\u001b[0mpossibly_batched_index\u001b[0m\u001b[0;34m]\u001b[0m\u001b[0;34m\u001b[0m\u001b[0;34m\u001b[0m\u001b[0m\n",
      "\u001b[0;32m~/kc/kagglenv/lib/python3.8/site-packages/torch/utils/data/_utils/fetch.py\u001b[0m in \u001b[0;36m<listcomp>\u001b[0;34m(.0)\u001b[0m\n\u001b[1;32m     47\u001b[0m     \u001b[0;32mdef\u001b[0m \u001b[0mfetch\u001b[0m\u001b[0;34m(\u001b[0m\u001b[0mself\u001b[0m\u001b[0;34m,\u001b[0m \u001b[0mpossibly_batched_index\u001b[0m\u001b[0;34m)\u001b[0m\u001b[0;34m:\u001b[0m\u001b[0;34m\u001b[0m\u001b[0;34m\u001b[0m\u001b[0m\n\u001b[1;32m     48\u001b[0m         \u001b[0;32mif\u001b[0m \u001b[0mself\u001b[0m\u001b[0;34m.\u001b[0m\u001b[0mauto_collation\u001b[0m\u001b[0;34m:\u001b[0m\u001b[0;34m\u001b[0m\u001b[0;34m\u001b[0m\u001b[0m\n\u001b[0;32m---> 49\u001b[0;31m             \u001b[0mdata\u001b[0m \u001b[0;34m=\u001b[0m \u001b[0;34m[\u001b[0m\u001b[0mself\u001b[0m\u001b[0;34m.\u001b[0m\u001b[0mdataset\u001b[0m\u001b[0;34m[\u001b[0m\u001b[0midx\u001b[0m\u001b[0;34m]\u001b[0m \u001b[0;32mfor\u001b[0m \u001b[0midx\u001b[0m \u001b[0;32min\u001b[0m \u001b[0mpossibly_batched_index\u001b[0m\u001b[0;34m]\u001b[0m\u001b[0;34m\u001b[0m\u001b[0;34m\u001b[0m\u001b[0m\n\u001b[0m\u001b[1;32m     50\u001b[0m         \u001b[0;32melse\u001b[0m\u001b[0;34m:\u001b[0m\u001b[0;34m\u001b[0m\u001b[0;34m\u001b[0m\u001b[0m\n\u001b[1;32m     51\u001b[0m             \u001b[0mdata\u001b[0m \u001b[0;34m=\u001b[0m \u001b[0mself\u001b[0m\u001b[0;34m.\u001b[0m\u001b[0mdataset\u001b[0m\u001b[0;34m[\u001b[0m\u001b[0mpossibly_batched_index\u001b[0m\u001b[0;34m]\u001b[0m\u001b[0;34m\u001b[0m\u001b[0;34m\u001b[0m\u001b[0m\n",
      "\u001b[0;32m/tmp/ipykernel_465774/620138622.py\u001b[0m in \u001b[0;36m__getitem__\u001b[0;34m(self, i)\u001b[0m\n\u001b[1;32m     37\u001b[0m         \u001b[0;32mif\u001b[0m \u001b[0mnp\u001b[0m\u001b[0;34m.\u001b[0m\u001b[0mrandom\u001b[0m\u001b[0;34m.\u001b[0m\u001b[0mrandom\u001b[0m\u001b[0;34m(\u001b[0m\u001b[0;34m)\u001b[0m\u001b[0;34m<\u001b[0m\u001b[0mself\u001b[0m\u001b[0;34m.\u001b[0m\u001b[0mpaug\u001b[0m\u001b[0;34m:\u001b[0m\u001b[0;34m\u001b[0m\u001b[0;34m\u001b[0m\u001b[0m\n\u001b[1;32m     38\u001b[0m             \u001b[0mtransform_name\u001b[0m \u001b[0;34m=\u001b[0m \u001b[0mnp\u001b[0m\u001b[0;34m.\u001b[0m\u001b[0mrandom\u001b[0m\u001b[0;34m.\u001b[0m\u001b[0mchoice\u001b[0m\u001b[0;34m(\u001b[0m\u001b[0mlist\u001b[0m\u001b[0;34m(\u001b[0m\u001b[0mself\u001b[0m\u001b[0;34m.\u001b[0m\u001b[0mtransforms\u001b[0m\u001b[0;34m.\u001b[0m\u001b[0mkeys\u001b[0m\u001b[0;34m(\u001b[0m\u001b[0;34m)\u001b[0m\u001b[0;34m)\u001b[0m\u001b[0;34m)\u001b[0m\u001b[0;34m\u001b[0m\u001b[0;34m\u001b[0m\u001b[0m\n\u001b[0;32m---> 39\u001b[0;31m             \u001b[0mx\u001b[0m \u001b[0;34m=\u001b[0m \u001b[0mself\u001b[0m\u001b[0;34m.\u001b[0m\u001b[0mtransforms\u001b[0m\u001b[0;34m[\u001b[0m\u001b[0mtransform_name\u001b[0m\u001b[0;34m]\u001b[0m\u001b[0;34m(\u001b[0m\u001b[0mx\u001b[0m\u001b[0;34m)\u001b[0m\u001b[0;34m\u001b[0m\u001b[0;34m\u001b[0m\u001b[0m\n\u001b[0m\u001b[1;32m     40\u001b[0m         \u001b[0mx\u001b[0m \u001b[0;34m=\u001b[0m \u001b[0mget_mfcc_features\u001b[0m\u001b[0;34m(\u001b[0m\u001b[0mx\u001b[0m\u001b[0;34m,\u001b[0m \u001b[0mpostfeatures\u001b[0m\u001b[0;34m=\u001b[0m\u001b[0;34m\"standardize\"\u001b[0m\u001b[0;34m,\u001b[0m \u001b[0mreturn_dims\u001b[0m\u001b[0;34m=\u001b[0m\u001b[0;36m2\u001b[0m\u001b[0;34m)\u001b[0m\u001b[0;34m\u001b[0m\u001b[0;34m\u001b[0m\u001b[0m\n\u001b[1;32m     41\u001b[0m         \u001b[0mx\u001b[0m \u001b[0;34m=\u001b[0m \u001b[0mx\u001b[0m\u001b[0;34m.\u001b[0m\u001b[0mastype\u001b[0m\u001b[0;34m(\u001b[0m\u001b[0mnp\u001b[0m\u001b[0;34m.\u001b[0m\u001b[0mfloat32\u001b[0m\u001b[0;34m)\u001b[0m\u001b[0;34m.\u001b[0m\u001b[0mT\u001b[0m\u001b[0;34m\u001b[0m\u001b[0;34m\u001b[0m\u001b[0m\n",
      "\u001b[0;32m/tmp/ipykernel_465774/620138622.py\u001b[0m in \u001b[0;36mhpss\u001b[0;34m(signal)\u001b[0m\n\u001b[1;32m     11\u001b[0m \u001b[0;34m\u001b[0m\u001b[0m\n\u001b[1;32m     12\u001b[0m \u001b[0;32mdef\u001b[0m \u001b[0mhpss\u001b[0m\u001b[0;34m(\u001b[0m\u001b[0msignal\u001b[0m\u001b[0;34m)\u001b[0m\u001b[0;34m:\u001b[0m\u001b[0;34m\u001b[0m\u001b[0;34m\u001b[0m\u001b[0m\n\u001b[0;32m---> 13\u001b[0;31m     \u001b[0;32mreturn\u001b[0m \u001b[0mlibrosa\u001b[0m\u001b[0;34m.\u001b[0m\u001b[0meffects\u001b[0m\u001b[0;34m.\u001b[0m\u001b[0mhpss\u001b[0m\u001b[0;34m(\u001b[0m\u001b[0msignal\u001b[0m\u001b[0;34m.\u001b[0m\u001b[0mastype\u001b[0m\u001b[0;34m(\u001b[0m\u001b[0;34m'float64'\u001b[0m\u001b[0;34m)\u001b[0m\u001b[0;34m)\u001b[0m\u001b[0;34m[\u001b[0m\u001b[0;36m1\u001b[0m\u001b[0;34m]\u001b[0m\u001b[0;34m\u001b[0m\u001b[0;34m\u001b[0m\u001b[0m\n\u001b[0m\u001b[1;32m     14\u001b[0m \u001b[0;34m\u001b[0m\u001b[0m\n\u001b[1;32m     15\u001b[0m \u001b[0;32mdef\u001b[0m \u001b[0mdistribution_noise\u001b[0m\u001b[0;34m(\u001b[0m\u001b[0msignal\u001b[0m\u001b[0;34m)\u001b[0m\u001b[0;34m:\u001b[0m\u001b[0;34m\u001b[0m\u001b[0;34m\u001b[0m\u001b[0m\n",
      "\u001b[0;32m~/kc/kagglenv/lib/python3.8/site-packages/librosa/effects.py\u001b[0m in \u001b[0;36mhpss\u001b[0;34m(y, **kwargs)\u001b[0m\n\u001b[1;32m     97\u001b[0m \u001b[0;34m\u001b[0m\u001b[0m\n\u001b[1;32m     98\u001b[0m     \u001b[0;31m# Decompose into harmonic and percussives\u001b[0m\u001b[0;34m\u001b[0m\u001b[0;34m\u001b[0m\u001b[0;34m\u001b[0m\u001b[0m\n\u001b[0;32m---> 99\u001b[0;31m     \u001b[0mstft_harm\u001b[0m\u001b[0;34m,\u001b[0m \u001b[0mstft_perc\u001b[0m \u001b[0;34m=\u001b[0m \u001b[0mdecompose\u001b[0m\u001b[0;34m.\u001b[0m\u001b[0mhpss\u001b[0m\u001b[0;34m(\u001b[0m\u001b[0mstft\u001b[0m\u001b[0;34m,\u001b[0m \u001b[0;34m**\u001b[0m\u001b[0mkwargs\u001b[0m\u001b[0;34m)\u001b[0m\u001b[0;34m\u001b[0m\u001b[0;34m\u001b[0m\u001b[0m\n\u001b[0m\u001b[1;32m    100\u001b[0m \u001b[0;34m\u001b[0m\u001b[0m\n\u001b[1;32m    101\u001b[0m     \u001b[0;31m# Invert the STFTs.  Adjust length to match the input.\u001b[0m\u001b[0;34m\u001b[0m\u001b[0;34m\u001b[0m\u001b[0;34m\u001b[0m\u001b[0m\n",
      "\u001b[0;32m~/kc/kagglenv/lib/python3.8/site-packages/librosa/util/decorators.py\u001b[0m in \u001b[0;36minner_f\u001b[0;34m(*args, **kwargs)\u001b[0m\n\u001b[1;32m     86\u001b[0m             \u001b[0mextra_args\u001b[0m \u001b[0;34m=\u001b[0m \u001b[0mlen\u001b[0m\u001b[0;34m(\u001b[0m\u001b[0margs\u001b[0m\u001b[0;34m)\u001b[0m \u001b[0;34m-\u001b[0m \u001b[0mlen\u001b[0m\u001b[0;34m(\u001b[0m\u001b[0mall_args\u001b[0m\u001b[0;34m)\u001b[0m\u001b[0;34m\u001b[0m\u001b[0;34m\u001b[0m\u001b[0m\n\u001b[1;32m     87\u001b[0m             \u001b[0;32mif\u001b[0m \u001b[0mextra_args\u001b[0m \u001b[0;34m<=\u001b[0m \u001b[0;36m0\u001b[0m\u001b[0;34m:\u001b[0m\u001b[0;34m\u001b[0m\u001b[0;34m\u001b[0m\u001b[0m\n\u001b[0;32m---> 88\u001b[0;31m                 \u001b[0;32mreturn\u001b[0m \u001b[0mf\u001b[0m\u001b[0;34m(\u001b[0m\u001b[0;34m*\u001b[0m\u001b[0margs\u001b[0m\u001b[0;34m,\u001b[0m \u001b[0;34m**\u001b[0m\u001b[0mkwargs\u001b[0m\u001b[0;34m)\u001b[0m\u001b[0;34m\u001b[0m\u001b[0;34m\u001b[0m\u001b[0m\n\u001b[0m\u001b[1;32m     89\u001b[0m \u001b[0;34m\u001b[0m\u001b[0m\n\u001b[1;32m     90\u001b[0m             \u001b[0;31m# extra_args > 0\u001b[0m\u001b[0;34m\u001b[0m\u001b[0;34m\u001b[0m\u001b[0;34m\u001b[0m\u001b[0m\n",
      "\u001b[0;32m~/kc/kagglenv/lib/python3.8/site-packages/librosa/decompose.py\u001b[0m in \u001b[0;36mhpss\u001b[0;34m(S, kernel_size, power, mask, margin)\u001b[0m\n\u001b[1;32m    370\u001b[0m     \u001b[0;31m# Compute median filters. Pre-allocation here preserves memory layout.\u001b[0m\u001b[0;34m\u001b[0m\u001b[0;34m\u001b[0m\u001b[0;34m\u001b[0m\u001b[0m\n\u001b[1;32m    371\u001b[0m     \u001b[0mharm\u001b[0m \u001b[0;34m=\u001b[0m \u001b[0mnp\u001b[0m\u001b[0;34m.\u001b[0m\u001b[0mempty_like\u001b[0m\u001b[0;34m(\u001b[0m\u001b[0mS\u001b[0m\u001b[0;34m)\u001b[0m\u001b[0;34m\u001b[0m\u001b[0;34m\u001b[0m\u001b[0m\n\u001b[0;32m--> 372\u001b[0;31m     \u001b[0mharm\u001b[0m\u001b[0;34m[\u001b[0m\u001b[0;34m:\u001b[0m\u001b[0;34m]\u001b[0m \u001b[0;34m=\u001b[0m \u001b[0mmedian_filter\u001b[0m\u001b[0;34m(\u001b[0m\u001b[0mS\u001b[0m\u001b[0;34m,\u001b[0m \u001b[0msize\u001b[0m\u001b[0;34m=\u001b[0m\u001b[0mharm_shape\u001b[0m\u001b[0;34m,\u001b[0m \u001b[0mmode\u001b[0m\u001b[0;34m=\u001b[0m\u001b[0;34m\"reflect\"\u001b[0m\u001b[0;34m)\u001b[0m\u001b[0;34m\u001b[0m\u001b[0;34m\u001b[0m\u001b[0m\n\u001b[0m\u001b[1;32m    373\u001b[0m \u001b[0;34m\u001b[0m\u001b[0m\n\u001b[1;32m    374\u001b[0m     \u001b[0mperc\u001b[0m \u001b[0;34m=\u001b[0m \u001b[0mnp\u001b[0m\u001b[0;34m.\u001b[0m\u001b[0mempty_like\u001b[0m\u001b[0;34m(\u001b[0m\u001b[0mS\u001b[0m\u001b[0;34m)\u001b[0m\u001b[0;34m\u001b[0m\u001b[0;34m\u001b[0m\u001b[0m\n",
      "\u001b[0;32m~/kc/kagglenv/lib/python3.8/site-packages/scipy/ndimage/filters.py\u001b[0m in \u001b[0;36mmedian_filter\u001b[0;34m(input, size, footprint, output, mode, cval, origin)\u001b[0m\n\u001b[1;32m   1393\u001b[0m     \u001b[0;34m>>\u001b[0m\u001b[0;34m>\u001b[0m \u001b[0mplt\u001b[0m\u001b[0;34m.\u001b[0m\u001b[0mshow\u001b[0m\u001b[0;34m(\u001b[0m\u001b[0;34m)\u001b[0m\u001b[0;34m\u001b[0m\u001b[0;34m\u001b[0m\u001b[0m\n\u001b[1;32m   1394\u001b[0m     \"\"\"\n\u001b[0;32m-> 1395\u001b[0;31m     return _rank_filter(input, 0, size, footprint, output, mode, cval,\n\u001b[0m\u001b[1;32m   1396\u001b[0m                         origin, 'median')\n\u001b[1;32m   1397\u001b[0m \u001b[0;34m\u001b[0m\u001b[0m\n",
      "\u001b[0;32m~/kc/kagglenv/lib/python3.8/site-packages/scipy/ndimage/filters.py\u001b[0m in \u001b[0;36m_rank_filter\u001b[0;34m(input, rank, size, footprint, output, mode, cval, origin, operation)\u001b[0m\n\u001b[1;32m   1300\u001b[0m                 \"filters\")\n\u001b[1;32m   1301\u001b[0m         \u001b[0mmode\u001b[0m \u001b[0;34m=\u001b[0m \u001b[0m_ni_support\u001b[0m\u001b[0;34m.\u001b[0m\u001b[0m_extend_mode_to_code\u001b[0m\u001b[0;34m(\u001b[0m\u001b[0mmode\u001b[0m\u001b[0;34m)\u001b[0m\u001b[0;34m\u001b[0m\u001b[0;34m\u001b[0m\u001b[0m\n\u001b[0;32m-> 1302\u001b[0;31m         _nd_image.rank_filter(input, rank, footprint, output, mode, cval,\n\u001b[0m\u001b[1;32m   1303\u001b[0m                               origins)\n\u001b[1;32m   1304\u001b[0m         \u001b[0;32mif\u001b[0m \u001b[0mtemp_needed\u001b[0m\u001b[0;34m:\u001b[0m\u001b[0;34m\u001b[0m\u001b[0;34m\u001b[0m\u001b[0m\n",
      "\u001b[0;31mKeyboardInterrupt\u001b[0m: "
     ]
    }
   ],
   "source": [
    "criterion = torch.nn.CrossEntropyLoss()\n",
    "optimizer = torch.optim.Adam(lstm_model.parameters(), lr=0.001, amsgrad=True)\n",
    "epochs = 1000\n",
    "verbose_step = 5\n",
    "min_validation_loss = np.float32('inf')\n",
    "\n",
    "# Epoch runner\n",
    "for epoch in range(epochs):\n",
    "    training_loss = []\n",
    "    training_accuracy = []\n",
    "    validation_loss = []\n",
    "    validation_accuracy = []\n",
    "\n",
    "    # Training\n",
    "    for inputs, targets in train_dataloader:\n",
    "        optimizer.zero_grad()\n",
    "        outputs = lstm_model(inputs.to(device))\n",
    "        loss = criterion(outputs, targets.to(device))\n",
    "        loss.backward()\n",
    "        optimizer.step()\n",
    "        training_loss.append(loss.mean().item())\n",
    "        training_accuracy.append((torch.nn.functional.softmax(outputs, dim=1).cpu().detach().numpy().argmax(axis=1)==targets.cpu().detach().numpy()).sum()/len(targets))\n",
    "    \n",
    "    # Validation\n",
    "    with torch.no_grad():\n",
    "        for inputs, targets in valid_dataloader:\n",
    "            outputs = lstm_model(inputs.to(device))\n",
    "            loss = criterion(outputs, targets.to(device))\n",
    "            validation_loss.append(loss.mean().item())\n",
    "            validation_accuracy.append((torch.nn.functional.softmax(outputs, dim=1).cpu().detach().numpy().argmax(axis=1)==targets.cpu().detach().numpy()).sum()/len(targets))\n",
    "    \n",
    "    # Verbose metrics\n",
    "    if (epoch+1)%verbose_step==0:\n",
    "        print(f\"Epoch: {epoch+1}\", end=\", \")\n",
    "        print(\"Training loss:\", np.mean(training_loss), end=\", \")\n",
    "        print(\"Training accuracy:\", np.mean(training_accuracy), end=\", \")\n",
    "        print(\"Validation loss:\", np.mean(validation_loss), end=\", \")\n",
    "        print(\"Validation accuracy:\", np.mean(validation_accuracy))\n",
    "    \n",
    "    # Save\n",
    "    if np.mean(validation_loss) < min_validation_loss:\n",
    "        min_validation_loss = np.mean(validation_loss)\n",
    "        torch.save(lstm_model.state_dict(), \"../models/lstm_v3_stdmfcc2D_2.5ms.pt\")"
   ]
  },
  {
   "cell_type": "code",
   "execution_count": 14,
   "metadata": {},
   "outputs": [
    {
     "name": "stdout",
     "output_type": "stream",
     "text": [
      "1.8167593479156494\n"
     ]
    }
   ],
   "source": [
    "print(min_validation_loss)"
   ]
  },
  {
   "cell_type": "markdown",
   "metadata": {},
   "source": [
    "## CNN"
   ]
  },
  {
   "cell_type": "markdown",
   "metadata": {},
   "source": [
    "### Define dataloader"
   ]
  },
  {
   "cell_type": "code",
   "execution_count": 11,
   "metadata": {},
   "outputs": [],
   "source": [
    "def display_spectrogram(spectrogram):\n",
    "    fig, ax = plt.subplots(facecolor=\"white\")\n",
    "    img = librosa.display.specshow(spectrogram, x_axis='time',\n",
    "                        y_axis='mel', sr=44100,\n",
    "                        fmax=8000, ax=ax)\n",
    "    fig.colorbar(img, ax=ax, format='%+2.0f dB')\n",
    "    ax.set(title='Mel-frequency spectrogram')\n",
    "    plt.show()"
   ]
  },
  {
   "cell_type": "code",
   "execution_count": 16,
   "metadata": {},
   "outputs": [],
   "source": [
    "class RavdessImageDataset(torch.utils.data.Dataset):\n",
    "    def __init__(self, X, y, paug=0.5) -> None:\n",
    "        self.y = y\n",
    "        self.X = X\n",
    "        self.paug = paug\n",
    "        self.transforms = {\n",
    "            \"pitch_shift\":pitch_shift,\n",
    "            \"value_augmentation\":value_augmentation,\n",
    "            \"hpss\":hpss,\n",
    "            \"distribution_noise\":distribution_noise\n",
    "        }\n",
    "\n",
    "    def __len__(self):\n",
    "        return len(self.y)\n",
    "\n",
    "    def __getitem__(self, i):\n",
    "        x, y = self.X[i], self.y[i]\n",
    "        if np.random.random()<self.paug:\n",
    "            transform_name = np.random.choice(list(self.transforms.keys()))\n",
    "            x = self.transforms[transform_name](x)\n",
    "        x = librosa.feature.melspectrogram(y=x, sr=44100, n_fft=1380, hop_length=345)/255.\n",
    "        return x.astype(np.float32), y"
   ]
  },
  {
   "cell_type": "code",
   "execution_count": 17,
   "metadata": {},
   "outputs": [],
   "source": [
    "# Initialize dataset\n",
    "train_imagedataset = RavdessImageDataset(X_train, y_train, paug=0.4)\n",
    "valid_imagedataset = RavdessImageDataset(X_valid, y_valid, paug=0.0)\n",
    "\n",
    "# Initialize dataloader\n",
    "train_imagedataloader = torch.utils.data.DataLoader(train_imagedataset, batch_size=256)\n",
    "valid_imagedataloader = torch.utils.data.DataLoader(valid_imagedataset, batch_size=256)"
   ]
  },
  {
   "cell_type": "markdown",
   "metadata": {},
   "source": [
    "### Build model"
   ]
  },
  {
   "cell_type": "code",
   "execution_count": 18,
   "metadata": {},
   "outputs": [],
   "source": [
    "device = torch.device(\"cuda\" if torch.cuda.is_available() else \"cpu\")\n",
    "n_classes = 16\n",
    "\n",
    "cnn_model = torch.nn.Sequential(\n",
    "    torch.nn.Conv2d(1, 32, 3, 2), # [?,1,128,320] -> [?,32,63,159]\n",
    "    torch.nn.BatchNorm2d(32),\n",
    "    torch.nn.ReLU(),\n",
    "    torch.nn.Conv2d(32, 64, 3, 2), # [?,32,63,159] -> [?,64,31,79]\n",
    "    torch.nn.BatchNorm2d(64),\n",
    "    torch.nn.ReLU(),\n",
    "    torch.nn.MaxPool2d(2), # [?,64,31,79] -> [?,64,15,39]\n",
    "    torch.nn.Conv2d(64, 128, 3, 2), # [?,64,15,39] -> [?,128,7,19]\n",
    "    torch.nn.BatchNorm2d(128),\n",
    "    torch.nn.ReLU(),\n",
    "    torch.nn.MaxPool2d(2), # [?,128,7,19] -> [?,128,3,9]\n",
    "    torch.nn.Flatten(),\n",
    "    torch.nn.Linear(128*3*9, n_classes)\n",
    ").to(device)"
   ]
  },
  {
   "cell_type": "code",
   "execution_count": 20,
   "metadata": {},
   "outputs": [
    {
     "name": "stdout",
     "output_type": "stream",
     "text": [
      "Epoch: 10, Training loss: 2.1340070962905884, Training accuracy: 0.35992046734234234, Validation loss: 2.422752618789673, Validation accuracy: 0.24751900337837837\n",
      "Epoch: 20, Training loss: 1.5403814911842346, Training accuracy: 0.5243260838963963, Validation loss: 2.088812828063965, Validation accuracy: 0.3214210304054054\n",
      "Epoch: 30, Training loss: 0.9721923023462296, Training accuracy: 0.7013566300675675, Validation loss: 1.9825977087020874, Validation accuracy: 0.36000844594594594\n",
      "Epoch: 40, Training loss: 0.6203436627984047, Training accuracy: 0.8186057150900901, Validation loss: 1.8823872804641724, Validation accuracy: 0.41934121621621623\n",
      "Epoch: 50, Training loss: 0.4816228896379471, Training accuracy: 0.8710409628378378, Validation loss: 1.8567222952842712, Validation accuracy: 0.45703125\n",
      "Epoch: 60, Training loss: 0.3541188910603523, Training accuracy: 0.9022029842342343, Validation loss: 2.0359250903129578, Validation accuracy: 0.4259396114864865\n",
      "Epoch: 70, Training loss: 0.34351786971092224, Training accuracy: 0.9124173001126126, Validation loss: 2.0161431431770325, Validation accuracy: 0.4582453547297297\n",
      "Epoch: 80, Training loss: 0.30227720737457275, Training accuracy: 0.9281918637387387, Validation loss: 2.1553642749786377, Validation accuracy: 0.4513302364864865\n",
      "Epoch: 90, Training loss: 0.278773695230484, Training accuracy: 0.9313502956081081, Validation loss: 2.136447310447693, Validation accuracy: 0.4543391047297297\n",
      "Epoch: 100, Training loss: 0.23052847757935524, Training accuracy: 0.9360043637387387, Validation loss: 2.078865706920624, Validation accuracy: 0.486328125\n",
      "Epoch: 110, Training loss: 0.18196208029985428, Training accuracy: 0.9506528012387387, Validation loss: 2.1142131090164185, Validation accuracy: 0.46516047297297297\n",
      "Epoch: 120, Training loss: 0.1769610121846199, Training accuracy: 0.9510311092342343, Validation loss: 2.1341596841812134, Validation accuracy: 0.42520059121621623\n",
      "Epoch: 130, Training loss: 0.1771480031311512, Training accuracy: 0.9508023648648649, Validation loss: 2.0605658888816833, Validation accuracy: 0.4747677364864865\n",
      "Epoch: 140, Training loss: 0.19368040561676025, Training accuracy: 0.9423916103603603, Validation loss: 2.0853689312934875, Validation accuracy: 0.47761824324324326\n",
      "Epoch: 150, Training loss: 0.1420764960348606, Training accuracy: 0.963647240990991, Validation loss: 2.10229229927063, Validation accuracy: 0.44863809121621623\n",
      "Epoch: 160, Training loss: 0.12633551470935345, Training accuracy: 0.9712309966216216, Validation loss: 2.091160237789154, Validation accuracy: 0.45930109797297297\n",
      "Epoch: 170, Training loss: 0.1193251833319664, Training accuracy: 0.9683804898648649, Validation loss: 2.168951630592346, Validation accuracy: 0.4719172297297297\n",
      "Epoch: 180, Training loss: 0.11912132427096367, Training accuracy: 0.967553490990991, Validation loss: 2.226626396179199, Validation accuracy: 0.4825802364864865\n",
      "Epoch: 190, Training loss: 0.12563269212841988, Training accuracy: 0.9643246762387387, Validation loss: 2.3740049600601196, Validation accuracy: 0.46980574324324326\n",
      "Epoch: 200, Training loss: 0.11058059893548489, Training accuracy: 0.9735624296171171, Validation loss: 2.1410163044929504, Validation accuracy: 0.507495777027027\n",
      "Epoch: 210, Training loss: 0.09818672016263008, Training accuracy: 0.9738615568693694, Validation loss: 2.1605984568595886, Validation accuracy: 0.4884396114864865\n",
      "Epoch: 220, Training loss: 0.09788751229643822, Training accuracy: 0.9769408079954955, Validation loss: 2.4467179775238037, Validation accuracy: 0.48347761824324326\n",
      "Epoch: 230, Training loss: 0.11793791502714157, Training accuracy: 0.968530053490991, Validation loss: 2.420964002609253, Validation accuracy: 0.47957136824324326\n",
      "Epoch: 240, Training loss: 0.11608521081507206, Training accuracy: 0.9706327421171171, Validation loss: 2.2022998332977295, Validation accuracy: 0.486328125\n",
      "Epoch: 250, Training loss: 0.08970248512923717, Training accuracy: 0.9788939329954955, Validation loss: 2.370726466178894, Validation accuracy: 0.45270270270270274\n",
      "Epoch: 260, Training loss: 0.06285770423710346, Training accuracy: 0.9839263091216216, Validation loss: 2.159277021884918, Validation accuracy: 0.5037478885135135\n",
      "Epoch: 270, Training loss: 0.10397136583924294, Training accuracy: 0.9730345579954955, Validation loss: 2.2290465235710144, Validation accuracy: 0.5\n",
      "Epoch: 280, Training loss: 0.07580491341650486, Training accuracy: 0.9816740568693694, Validation loss: 2.2281134128570557, Validation accuracy: 0.4689083614864865\n",
      "Epoch: 290, Training loss: 0.048790670931339264, Training accuracy: 0.9897856841216216, Validation loss: 2.307959198951721, Validation accuracy: 0.4845333614864865\n",
      "Epoch: 300, Training loss: 0.06164967641234398, Training accuracy: 0.9873838682432432, Validation loss: 2.3510146141052246, Validation accuracy: 0.4669552364864865\n",
      "Epoch: 310, Training loss: 0.06919244304299355, Training accuracy: 0.9755155546171171, Validation loss: 2.3956218957901, Validation accuracy: 0.4920291385135135\n",
      "Epoch: 320, Training loss: 0.08143377676606178, Training accuracy: 0.9813749296171171, Validation loss: 2.3944027423858643, Validation accuracy: 0.4939822635135135\n",
      "Epoch: 330, Training loss: 0.11226275376975536, Training accuracy: 0.9710110501126126, Validation loss: 2.6658395528793335, Validation accuracy: 0.474609375\n",
      "Epoch: 340, Training loss: 0.07487448770552874, Training accuracy: 0.9777678068693694, Validation loss: 2.524500250816345, Validation accuracy: 0.48543074324324326\n",
      "Epoch: 350, Training loss: 0.09174169227480888, Training accuracy: 0.9737119932432432, Validation loss: 2.6150641441345215, Validation accuracy: 0.4601984797297297\n",
      "Epoch: 360, Training loss: 0.06683703139424324, Training accuracy: 0.981225365990991, Validation loss: 2.4493820667266846, Validation accuracy: 0.48347761824324326\n",
      "Epoch: 370, Training loss: 0.06483194977045059, Training accuracy: 0.9811461852477478, Validation loss: 2.3742780685424805, Validation accuracy: 0.48152449324324326\n",
      "Epoch: 380, Training loss: 0.0478523513302207, Training accuracy: 0.9885099943693694, Validation loss: 2.5014911890029907, Validation accuracy: 0.490234375\n",
      "Epoch: 390, Training loss: 0.05892926640808582, Training accuracy: 0.9842254363738738, Validation loss: 2.599451184272766, Validation accuracy: 0.5078125\n",
      "Epoch: 400, Training loss: 0.053928554989397526, Training accuracy: 0.9878325591216216, Validation loss: 2.5414834022521973, Validation accuracy: 0.490234375\n",
      "Epoch: 410, Training loss: 0.038529643788933754, Training accuracy: 0.9921875, Validation loss: 2.4734023809432983, Validation accuracy: 0.46906672297297297\n",
      "Epoch: 420, Training loss: 0.052147384732961655, Training accuracy: 0.9811461852477478, Validation loss: 2.5276941061019897, Validation accuracy: 0.4689083614864865\n",
      "Epoch: 430, Training loss: 0.04154016217216849, Training accuracy: 0.9891082488738738, Validation loss: 2.516851544380188, Validation accuracy: 0.4929265202702703\n",
      "Epoch: 440, Training loss: 0.03642986575141549, Training accuracy: 0.9897856841216216, Validation loss: 2.3737415075302124, Validation accuracy: 0.47101984797297297\n",
      "Epoch: 450, Training loss: 0.04891068767756224, Training accuracy: 0.9849028716216216, Validation loss: 2.4926416873931885, Validation accuracy: 0.5069151182432432\n",
      "Epoch: 460, Training loss: 0.02754621673375368, Training accuracy: 0.9959441863738738, Validation loss: 2.660759449005127, Validation accuracy: 0.46906672297297297\n",
      "Epoch: 470, Training loss: 0.05771187134087086, Training accuracy: 0.9798704954954955, Validation loss: 2.482542872428894, Validation accuracy: 0.5105046452702703\n",
      "Epoch: 480, Training loss: 0.03511405969038606, Training accuracy: 0.9909118102477478, Validation loss: 2.4101747274398804, Validation accuracy: 0.48933699324324326\n",
      "Epoch: 490, Training loss: 0.03929559513926506, Training accuracy: 0.9886595579954955, Validation loss: 2.4228681325912476, Validation accuracy: 0.505542652027027\n",
      "Epoch: 500, Training loss: 0.038190051447600126, Training accuracy: 0.9907622466216216, Validation loss: 2.562463879585266, Validation accuracy: 0.47941300675675674\n",
      "Epoch: 510, Training loss: 0.03485769871622324, Training accuracy: 0.9920379363738738, Validation loss: 2.3957815170288086, Validation accuracy: 0.5115603885135135\n",
      "Epoch: 520, Training loss: 0.0321194501593709, Training accuracy: 0.9921875, Validation loss: 2.6212364435195923, Validation accuracy: 0.49308488175675674\n",
      "Epoch: 530, Training loss: 0.028834636323153973, Training accuracy: 0.9918883727477478, Validation loss: 2.6154552698135376, Validation accuracy: 0.49699113175675674\n",
      "Epoch: 540, Training loss: 0.02822975441813469, Training accuracy: 0.9948180602477478, Validation loss: 2.6807119846343994, Validation accuracy: 0.5096072635135135\n",
      "Epoch: 550, Training loss: 0.02641880325973034, Training accuracy: 0.994140625, Validation loss: 2.5216084718704224, Validation accuracy: 0.505859375\n",
      "Epoch: 560, Training loss: 0.033193079521879554, Training accuracy: 0.9894865568693694, Validation loss: 2.7283512353897095, Validation accuracy: 0.4728146114864865\n",
      "Epoch: 570, Training loss: 0.03588645625859499, Training accuracy: 0.9876829954954955, Validation loss: 2.547321915626526, Validation accuracy: 0.4982052364864865\n",
      "Epoch: 580, Training loss: 0.02160600759088993, Training accuracy: 0.9939910613738738, Validation loss: 2.733652353286743, Validation accuracy: 0.4998416385135135\n",
      "Epoch: 590, Training loss: 0.022471004631370306, Training accuracy: 0.9938414977477478, Validation loss: 2.5446470975875854, Validation accuracy: 0.5398015202702703\n",
      "Epoch: 600, Training loss: 0.020743674831464887, Training accuracy: 0.9951171875, Validation loss: 2.7723629474639893, Validation accuracy: 0.48933699324324326\n",
      "Epoch: 610, Training loss: 0.040874948259443045, Training accuracy: 0.9879821227477478, Validation loss: 2.560388684272766, Validation accuracy: 0.5222233952702703\n",
      "Epoch: 620, Training loss: 0.018292896216735244, Training accuracy: 0.9970703125, Validation loss: 2.7634249925613403, Validation accuracy: 0.4689083614864865\n",
      "Epoch: 630, Training loss: 0.025208760052919388, Training accuracy: 0.9938414977477478, Validation loss: 2.8324995040893555, Validation accuracy: 0.4650021114864865\n",
      "Epoch: 640, Training loss: 0.022448761854320765, Training accuracy: 0.9949676238738738, Validation loss: 2.7384209632873535, Validation accuracy: 0.49894425675675674\n",
      "Epoch: 650, Training loss: 0.024932824540883303, Training accuracy: 0.9909118102477478, Validation loss: 2.8759433031082153, Validation accuracy: 0.4797297297297297\n",
      "Epoch: 660, Training loss: 0.025588573422282934, Training accuracy: 0.9928649352477478, Validation loss: 3.0899561643600464, Validation accuracy: 0.43422719594594594\n",
      "Epoch: 670, Training loss: 0.0240919099887833, Training accuracy: 0.99609375, Validation loss: 2.790701150894165, Validation accuracy: 0.4747677364864865\n",
      "Epoch: 680, Training loss: 0.02582474029622972, Training accuracy: 0.9959441863738738, Validation loss: 2.922204852104187, Validation accuracy: 0.4758234797297297\n",
      "Epoch: 690, Training loss: 0.05141395144164562, Training accuracy: 0.9885099943693694, Validation loss: 3.109421968460083, Validation accuracy: 0.45750633445945943\n"
     ]
    }
   ],
   "source": [
    "criterion = torch.nn.CrossEntropyLoss()\n",
    "optimizer = torch.optim.Adam(cnn_model.parameters(), lr=0.001, amsgrad=True)\n",
    "epochs = 1000\n",
    "verbose_step = 10\n",
    "min_validation_loss = np.float32('inf')\n",
    "\n",
    "# Epoch runner\n",
    "for epoch in range(epochs):\n",
    "    training_loss = []\n",
    "    training_accuracy = []\n",
    "    validation_loss = []\n",
    "    validation_accuracy = []\n",
    "\n",
    "    # Training\n",
    "    for inputs, targets in train_imagedataloader:\n",
    "        optimizer.zero_grad()\n",
    "        outputs = cnn_model(inputs.unsqueeze(axis=1).to(device))\n",
    "        loss = criterion(outputs, targets.to(device))\n",
    "        loss.backward()\n",
    "        optimizer.step()\n",
    "        training_loss.append(loss.mean().item())\n",
    "        training_accuracy.append((torch.nn.functional.softmax(outputs, dim=1).cpu().detach().numpy().argmax(axis=1)==targets.cpu().detach().numpy()).sum()/len(targets))\n",
    "    \n",
    "    # Validation\n",
    "    with torch.no_grad():\n",
    "        for inputs, targets in valid_imagedataloader:\n",
    "            outputs = cnn_model(inputs.unsqueeze(axis=1).to(device))\n",
    "            loss = criterion(outputs, targets.to(device))\n",
    "            validation_loss.append(loss.mean().item())\n",
    "            validation_accuracy.append((torch.nn.functional.softmax(outputs, dim=1).cpu().detach().numpy().argmax(axis=1)==targets.cpu().detach().numpy()).sum()/len(targets))\n",
    "    \n",
    "    # Verbose metrics\n",
    "    if (epoch+1)%verbose_step==0:\n",
    "        print(f\"Epoch: {epoch+1}\", end=\", \")\n",
    "        print(\"Training loss:\", np.mean(training_loss), end=\", \")\n",
    "        print(\"Training accuracy:\", np.mean(training_accuracy), end=\", \")\n",
    "        print(\"Validation loss:\", np.mean(validation_loss), end=\", \")\n",
    "        print(\"Validation accuracy:\", np.mean(validation_accuracy))\n",
    "    \n",
    "    # Save\n",
    "    if np.mean(validation_loss) < min_validation_loss:\n",
    "        min_validation_loss = np.mean(validation_loss)\n",
    "        torch.save(cnn_model.state_dict(), \"../models/cnn_v1_stdmfcc2D_2.5ms.pt\")"
   ]
  },
  {
   "cell_type": "code",
   "execution_count": null,
   "metadata": {},
   "outputs": [],
   "source": []
  }
 ],
 "metadata": {
  "interpreter": {
   "hash": "f9a5fd77c4145bf0d5075e8f6c2878b697c65676cd372abdf0fd157b274620be"
  },
  "kernelspec": {
   "display_name": "Python 3.8.10 ('kagglenv')",
   "language": "python",
   "name": "python3"
  },
  "language_info": {
   "codemirror_mode": {
    "name": "ipython",
    "version": 3
   },
   "file_extension": ".py",
   "mimetype": "text/x-python",
   "name": "python",
   "nbconvert_exporter": "python",
   "pygments_lexer": "ipython3",
   "version": "3.8.10"
  },
  "orig_nbformat": 4
 },
 "nbformat": 4,
 "nbformat_minor": 2
}
