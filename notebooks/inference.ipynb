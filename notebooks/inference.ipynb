{
 "cells": [
  {
   "cell_type": "code",
   "execution_count": 12,
   "metadata": {},
   "outputs": [],
   "source": [
    "import os, random\n",
    "import torch\n",
    "import librosa\n",
    "import joblib\n",
    "import numpy as np\n",
    "import pandas as pd\n",
    "import matplotlib.pyplot as plt\n",
    "import seaborn as sns\n",
    "from tqdm import tqdm\n",
    "from sklearn.preprocessing import StandardScaler\n",
    "from sklearn.metrics import confusion_matrix, accuracy_score"
   ]
  },
  {
   "cell_type": "code",
   "execution_count": 13,
   "metadata": {},
   "outputs": [],
   "source": [
    "# os.environ['CUDA_LAUNCH_BLOCKING'] = '1'\n",
    "\n",
    "def _initialize_seed(seed):\n",
    "    np.random.seed(seed)\n",
    "    random.seed(seed)\n",
    "\n",
    "random_state = 42\n",
    "_initialize_seed(random_state)"
   ]
  },
  {
   "cell_type": "code",
   "execution_count": 14,
   "metadata": {},
   "outputs": [],
   "source": [
    "data_dir = \"../input/ravdess/\"\n",
    "df_test = pd.read_csv(os.path.join(data_dir, \"test.csv\"))"
   ]
  },
  {
   "cell_type": "code",
   "execution_count": 15,
   "metadata": {},
   "outputs": [],
   "source": [
    "def load_signals(df, sr=44100, **kwargs):\n",
    "    singals = []\n",
    "    for row in tqdm(df.itertuples(), desc=\"Processing...\", total=len(df)):\n",
    "        audio_signal,_ = librosa.core.load(os.path.join(data_dir, row.filepath), sr=sr, offset=kwargs.get(\"offset\", 0.25), duration=kwargs.get(\"duration\", 2.5))\n",
    "        singals.append(audio_signal)\n",
    "    return np.array(singals, dtype=np.float32)"
   ]
  },
  {
   "cell_type": "code",
   "execution_count": 16,
   "metadata": {},
   "outputs": [],
   "source": [
    "def get_mfcc_features(signal, postfeatures=\"standardize\", return_dims=1):\n",
    "    assert(postfeatures in [\"standardize\",\"normalize\"])\n",
    "    assert(return_dims in [1,2])\n",
    "\n",
    "    # Get MFCC\n",
    "    x = librosa.feature.mfcc(y=signal)\n",
    "\n",
    "    # Postprocess\n",
    "    if postfeatures==\"standardize\":\n",
    "        x = StandardScaler().fit_transform(x.T).T\n",
    "    elif postfeatures==\"normalize\":\n",
    "        x = 2.*(x - x.min(axis=1).reshape(-1,1))/(x.max(axis=1)-x.min(axis=1)).reshape(-1,1) - 1\n",
    "    \n",
    "    # Return\n",
    "    return x.ravel() if return_dims==1 else x"
   ]
  },
  {
   "cell_type": "code",
   "execution_count": 17,
   "metadata": {},
   "outputs": [
    {
     "name": "stderr",
     "output_type": "stream",
     "text": [
      "Processing...: 100%|██████████| 120/120 [00:05<00:00, 21.85it/s]\n"
     ]
    }
   ],
   "source": [
    "X_test = load_signals(df_test)"
   ]
  },
  {
   "cell_type": "markdown",
   "metadata": {},
   "source": [
    "## XGBoost"
   ]
  },
  {
   "cell_type": "code",
   "execution_count": 18,
   "metadata": {},
   "outputs": [
    {
     "name": "stdout",
     "output_type": "stream",
     "text": [
      "(120, 4320) (120,)\n"
     ]
    }
   ],
   "source": [
    "X_test_mfcc1D = np.array([get_mfcc_features(x, postfeatures=\"standardize\", return_dims=1) for x in X_test])\n",
    "y_test = df_test[\"emotion\"].values\n",
    "print(X_test_mfcc1D.shape, y_test.shape)"
   ]
  },
  {
   "cell_type": "code",
   "execution_count": 19,
   "metadata": {},
   "outputs": [],
   "source": [
    "xgbc = joblib.load(\"../models/xgbc_v1_stdmfcc1D_2.5ms.joblib\")\n",
    "y_hat_test = xgbc.predict(X_test_mfcc1D)"
   ]
  },
  {
   "cell_type": "code",
   "execution_count": 20,
   "metadata": {},
   "outputs": [
    {
     "data": {
      "image/png": "[encoded data removed]",
      "text/plain": [
       "<Figure size 432x288 with 2 Axes>"
      ]
     },
     "metadata": {},
     "output_type": "display_data"
    }
   ],
   "source": [
    "plt.figure(facecolor=\"white\")\n",
    "sns.heatmap(confusion_matrix(y_hat_test, y_test), annot=True)\n",
    "plt.show()"
   ]
  },
  {
   "cell_type": "code",
   "execution_count": 21,
   "metadata": {},
   "outputs": [
    {
     "data": {
      "text/plain": [
       "0.2833333333333333"
      ]
     },
     "execution_count": 21,
     "metadata": {},
     "output_type": "execute_result"
    }
   ],
   "source": [
    "accuracy_score(y_hat_test, y_test)"
   ]
  },
  {
   "cell_type": "markdown",
   "metadata": {},
   "source": [
    "## LSTM"
   ]
  },
  {
   "cell_type": "code",
   "execution_count": 22,
   "metadata": {},
   "outputs": [],
   "source": [
    "device = torch.device(\"cuda\" if torch.cuda.is_available() else \"cpu\")\n",
    "n_classes = 16\n",
    "\n",
    "class GetLSTMFeatures(torch.nn.Module):\n",
    "    def __init__(self, mode, batch_first=True) -> None:\n",
    "        super().__init__()\n",
    "        self.mode = mode\n",
    "        self.batch_first = batch_first\n",
    "    def forward(self, x):\n",
    "        output, (hn, cn) = x\n",
    "        if self.mode==\"full\":\n",
    "            return output\n",
    "        return output[:,-1,:] if self.batch_first else output[-1,:,:]\n",
    "\n",
    "lstm_model = torch.nn.Sequential(\n",
    "    torch.nn.LSTM(input_size=20, hidden_size=64, num_layers=3, dropout=0.2, batch_first=True),\n",
    "    # GetLSTMFeatures(mode=\"full\"),\n",
    "    # torch.nn.LSTM(input_size=16, hidden_size=8, num_layers=2),\n",
    "    GetLSTMFeatures(mode=\"last\"),\n",
    "    torch.nn.Linear(in_features=64, out_features=32),\n",
    "    torch.nn.ReLU(),\n",
    "    torch.nn.Linear(in_features=32, out_features=n_classes)\n",
    ").to(device)"
   ]
  },
  {
   "cell_type": "code",
   "execution_count": 23,
   "metadata": {},
   "outputs": [
    {
     "data": {
      "text/plain": [
       "<All keys matched successfully>"
      ]
     },
     "execution_count": 23,
     "metadata": {},
     "output_type": "execute_result"
    }
   ],
   "source": [
    "lstm_model.load_state_dict(torch.load(\"../models/lstm_v3_stdmfcc2D_2.5ms.pt\"))"
   ]
  },
  {
   "cell_type": "code",
   "execution_count": 24,
   "metadata": {},
   "outputs": [],
   "source": [
    "X_test_mfcc2D = np.array([get_mfcc_features(x, postfeatures=\"standardize\", return_dims=2) for x in X_test])"
   ]
  },
  {
   "cell_type": "code",
   "execution_count": 25,
   "metadata": {},
   "outputs": [
    {
     "data": {
      "text/plain": [
       "(120, 20, 216)"
      ]
     },
     "execution_count": 25,
     "metadata": {},
     "output_type": "execute_result"
    }
   ],
   "source": [
    "X_test_mfcc2D.shape"
   ]
  },
  {
   "cell_type": "code",
   "execution_count": 26,
   "metadata": {},
   "outputs": [
    {
     "data": {
      "text/plain": [
       "0.225"
      ]
     },
     "execution_count": 26,
     "metadata": {},
     "output_type": "execute_result"
    }
   ],
   "source": [
    "y_pred_lstm = lstm_model(torch.tensor(X_test_mfcc2D.transpose((0,2,1))).to(device))\n",
    "(torch.nn.functional.softmax(y_pred_lstm, dim=1).cpu().detach().numpy().argmax(axis=1)==y_test).sum()/len(y_test)"
   ]
  },
  {
   "cell_type": "markdown",
   "metadata": {},
   "source": [
    "## CNN"
   ]
  },
  {
   "cell_type": "code",
   "execution_count": 27,
   "metadata": {},
   "outputs": [
    {
     "name": "stderr",
     "output_type": "stream",
     "text": [
      "/tmp/ipykernel_193587/980442924.py:4: UserWarning: Creating a tensor from a list of numpy.ndarrays is extremely slow. Please consider converting the list to a single numpy.ndarray with numpy.array() before converting to a tensor. (Triggered internally at  ../torch/csrc/utils/tensor_new.cpp:201.)\n",
      "  X_melspec = torch.tensor(X_melspec).to(device)\n"
     ]
    }
   ],
   "source": [
    "X_melspec = []\n",
    "for x in X_test:\n",
    "    X_melspec.append(librosa.feature.melspectrogram(y=x, sr=44100, n_fft=1380, hop_length=345)/255.)\n",
    "X_melspec = torch.tensor(X_melspec).to(device)"
   ]
  },
  {
   "cell_type": "code",
   "execution_count": 28,
   "metadata": {},
   "outputs": [],
   "source": [
    "device = torch.device(\"cuda\" if torch.cuda.is_available() else \"cpu\")\n",
    "n_classes = 16\n",
    "\n",
    "cnn_model = torch.nn.Sequential(\n",
    "    torch.nn.Conv2d(1, 32, 3, 2), # [?,1,128,320] -> [?,32,63,159]\n",
    "    torch.nn.BatchNorm2d(32),\n",
    "    torch.nn.ReLU(),\n",
    "    torch.nn.Conv2d(32, 64, 3, 2), # [?,32,63,159] -> [?,64,31,79]\n",
    "    torch.nn.BatchNorm2d(64),\n",
    "    torch.nn.ReLU(),\n",
    "    torch.nn.MaxPool2d(2), # [?,64,31,79] -> [?,64,15,39]\n",
    "    torch.nn.Conv2d(64, 128, 3, 2), # [?,64,15,39] -> [?,128,7,19]\n",
    "    torch.nn.BatchNorm2d(128),\n",
    "    torch.nn.ReLU(),\n",
    "    torch.nn.MaxPool2d(2), # [?,128,7,19] -> [?,128,3,9]\n",
    "    torch.nn.Flatten(),\n",
    "    torch.nn.Linear(128*3*9, n_classes)\n",
    ").to(device)"
   ]
  },
  {
   "cell_type": "code",
   "execution_count": 29,
   "metadata": {},
   "outputs": [
    {
     "data": {
      "text/plain": [
       "<All keys matched successfully>"
      ]
     },
     "execution_count": 29,
     "metadata": {},
     "output_type": "execute_result"
    }
   ],
   "source": [
    "cnn_model.load_state_dict(torch.load(\"../models/cnn_v1_stdmfcc2D_2.5ms.pt\"))"
   ]
  },
  {
   "cell_type": "code",
   "execution_count": 30,
   "metadata": {},
   "outputs": [
    {
     "data": {
      "text/plain": [
       "0.2833333333333333"
      ]
     },
     "execution_count": 30,
     "metadata": {},
     "output_type": "execute_result"
    }
   ],
   "source": [
    "y_pred_cnn = cnn_model(X_melspec.unsqueeze(axis=1))\n",
    "(torch.nn.functional.softmax(y_pred_cnn, dim=1).cpu().detach().numpy().argmax(axis=1)==y_test).sum()/len(y_test)"
   ]
  },
  {
   "cell_type": "code",
   "execution_count": 33,
   "metadata": {},
   "outputs": [
    {
     "data": {
      "text/plain": [
       "0.9083333333333333"
      ]
     },
     "execution_count": 33,
     "metadata": {},
     "output_type": "execute_result"
    }
   ],
   "source": [
    "(torch.nn.functional.softmax(y_pred_lstm, dim=1).cpu().detach().numpy().argmax(axis=1)%2==y_test%2).sum()/len(y_test)"
   ]
  },
  {
   "cell_type": "code",
   "execution_count": 39,
   "metadata": {},
   "outputs": [
    {
     "data": {
      "text/plain": [
       "0.8583333333333333"
      ]
     },
     "execution_count": 39,
     "metadata": {},
     "output_type": "execute_result"
    }
   ],
   "source": [
    "(xgbc.predict(X_test_mfcc1D)%2 == y_test%2).sum() / len(y_test)"
   ]
  },
  {
   "cell_type": "code",
   "execution_count": null,
   "metadata": {},
   "outputs": [],
   "source": []
  }
 ],
 "metadata": {
  "kernelspec": {
   "display_name": "kagglenv",
   "language": "python",
   "name": "kagglenv"
  },
  "language_info": {
   "codemirror_mode": {
    "name": "ipython",
    "version": 3
   },
   "file_extension": ".py",
   "mimetype": "text/x-python",
   "name": "python",
   "nbconvert_exporter": "python",
   "pygments_lexer": "ipython3",
   "version": "3.8.10"
  },
  "orig_nbformat": 4
 },
 "nbformat": 4,
 "nbformat_minor": 2
}
